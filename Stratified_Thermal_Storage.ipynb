{
 "cells": [
  {
   "cell_type": "markdown",
   "metadata": {},
   "source": [
    "# Oemof-thermal issue \n",
    "## The StratifiedThermalStorage class\n",
    "\n",
    "Requirements:\n",
    "- oemof.network==0.5.0\n",
    "- oemof.solph==0.5.5\n",
    "- oemof.thermal==0.0.6\n",
    "\n",
    "Problem Description: \n",
    "Trying to recreate the example from the oemof-thermal for the **StratifiedThermalStorage** class, the code did not run as expected. There were error messages, that all involved the \n",
    "class attributes of the **StratifiedThermalStorage** class, that are not defined in the **Node** class.\n",
    "Example of the error message:\n",
    "\n",
    "\n",
    "        File c:\\Users\\To\\AppData\\Local\\Programs\\Python\\Python312\\Lib\\site-packages\\oemof\\thermal\\facades.py:79, in Facade.__init__(self, *args, **kwargs)\n",
    "     75 self.type = kwargs.get(\"type\")\n",
    "     77 required = kwargs.pop(\"_facade_requires_\", [])\n",
    "          ---> 79 super().__init__(*args, **kwargs)\n",
    "     81 self.subnodes = []\n",
    "     82 EnergySystem.signals[EnergySystem.add].connect(\n",
    "     83     add_subnodes, sender=self\n",
    "     84 )\n",
    "\n",
    "          TypeError: Node.__init__() got an unexpected keyword argument 'bus'\n",
    "\n",
    "I suppose the error arises because the **StratifiedThermalStorage** class calls the **Facade** class. The **Facade** class inherits from the **Node** class and tries\n",
    "to hand over the kwargs and args to the **Node** class in line 79 of the facade.py file in oemof-thermal:\n",
    "\n",
    "          super().__init__(*args, **kwargs)\n",
    "\n",
    "However the Node class does NOT accept kwargs or args. And the kwargs for **StratifiedThermalStorage** (like 'bus' or 'diameter') do not exist in the **Node** class. \n",
    "This results in the error message.\n",
    "\n",
    "Possibly, there existed an oemof-version once, where **kwargs and *args could be passed to the Node class.\n",
    "\n",
    "The code below should recreate the error message\n"
   ]
  },
  {
   "cell_type": "code",
   "execution_count": 1,
   "metadata": {},
   "outputs": [
    {
     "ename": "TypeError",
     "evalue": "Node.__init__() got an unexpected keyword argument 'bus'",
     "output_type": "error",
     "traceback": [
      "\u001b[1;31m---------------------------------------------------------------------------\u001b[0m",
      "\u001b[1;31mTypeError\u001b[0m                                 Traceback (most recent call last)",
      "Cell \u001b[1;32mIn[1], line 16\u001b[0m\n\u001b[0;32m     13\u001b[0m sinkHeat\u001b[38;5;241m=\u001b[39m solph\u001b[38;5;241m.\u001b[39mcomponents\u001b[38;5;241m.\u001b[39mSink(label\u001b[38;5;241m=\u001b[39m\u001b[38;5;124m'\u001b[39m\u001b[38;5;124msinkHeat\u001b[39m\u001b[38;5;124m'\u001b[39m, inputs\u001b[38;5;241m=\u001b[39m{bus_heat: solph\u001b[38;5;241m.\u001b[39mflows\u001b[38;5;241m.\u001b[39mFlow()})\n\u001b[0;32m     15\u001b[0m \u001b[38;5;66;03m#StratifiedThermalStorage\u001b[39;00m\n\u001b[1;32m---> 16\u001b[0m thermal_storage \u001b[38;5;241m=\u001b[39m \u001b[43mStratifiedThermalStorage\u001b[49m\u001b[43m(\u001b[49m\n\u001b[0;32m     17\u001b[0m \u001b[43m    \u001b[49m\u001b[43mlabel\u001b[49m\u001b[38;5;241;43m=\u001b[39;49m\u001b[38;5;124;43m'\u001b[39;49m\u001b[38;5;124;43mthermal_storage\u001b[39;49m\u001b[38;5;124;43m'\u001b[39;49m\u001b[43m,\u001b[49m\n\u001b[0;32m     18\u001b[0m \u001b[43m    \u001b[49m\u001b[43mbus\u001b[49m\u001b[38;5;241;43m=\u001b[39;49m\u001b[43mbus_heat\u001b[49m\u001b[43m,\u001b[49m\n\u001b[0;32m     19\u001b[0m \u001b[43m    \u001b[49m\u001b[43mdiameter\u001b[49m\u001b[38;5;241;43m=\u001b[39;49m\u001b[38;5;241;43m3\u001b[39;49m\u001b[43m,\u001b[49m\n\u001b[0;32m     20\u001b[0m \u001b[43m    \u001b[49m\u001b[43mheight\u001b[49m\u001b[38;5;241;43m=\u001b[39;49m\u001b[38;5;241;43m5\u001b[39;49m\u001b[43m,\u001b[49m\n\u001b[0;32m     21\u001b[0m \u001b[43m    \u001b[49m\u001b[43mtemp_h\u001b[49m\u001b[38;5;241;43m=\u001b[39;49m\u001b[38;5;241;43m95\u001b[39;49m\u001b[43m,\u001b[49m\n\u001b[0;32m     22\u001b[0m \u001b[43m    \u001b[49m\u001b[43mtemp_c\u001b[49m\u001b[38;5;241;43m=\u001b[39;49m\u001b[38;5;241;43m60\u001b[39;49m\u001b[43m,\u001b[49m\n\u001b[0;32m     23\u001b[0m \u001b[43m    \u001b[49m\u001b[43mtemp_env\u001b[49m\u001b[38;5;241;43m=\u001b[39;49m\u001b[38;5;241;43m10\u001b[39;49m\u001b[43m,\u001b[49m\n\u001b[0;32m     24\u001b[0m \u001b[43m    \u001b[49m\u001b[43mu_value\u001b[49m\u001b[38;5;241;43m=\u001b[39;49m\u001b[38;5;241;43m3\u001b[39;49m\u001b[43m,\u001b[49m\n\u001b[0;32m     25\u001b[0m \u001b[43m    \u001b[49m\u001b[43mmin_storage_level\u001b[49m\u001b[38;5;241;43m=\u001b[39;49m\u001b[38;5;241;43m0.05\u001b[39;49m\u001b[43m,\u001b[49m\n\u001b[0;32m     26\u001b[0m \u001b[43m    \u001b[49m\u001b[43mmax_storage_level\u001b[49m\u001b[38;5;241;43m=\u001b[39;49m\u001b[38;5;241;43m0.95\u001b[39;49m\u001b[43m,\u001b[49m\n\u001b[0;32m     27\u001b[0m \u001b[43m    \u001b[49m\u001b[43mcapacity\u001b[49m\u001b[38;5;241;43m=\u001b[39;49m\u001b[38;5;241;43m1\u001b[39;49m\u001b[43m,\u001b[49m\n\u001b[0;32m     28\u001b[0m \u001b[43m    \u001b[49m\u001b[43mefficiency\u001b[49m\u001b[38;5;241;43m=\u001b[39;49m\u001b[38;5;241;43m0.9\u001b[39;49m\u001b[43m,\u001b[49m\n\u001b[0;32m     29\u001b[0m \u001b[43m    \u001b[49m\u001b[43mmarginal_cost\u001b[49m\u001b[38;5;241;43m=\u001b[39;49m\u001b[38;5;241;43m0.0001\u001b[39;49m\u001b[43m,\u001b[49m\n\u001b[0;32m     30\u001b[0m \u001b[43m    \u001b[49m\u001b[43minitial_storage_level\u001b[49m\u001b[38;5;241;43m=\u001b[39;49m\u001b[38;5;241;43m0.05\u001b[39;49m\u001b[43m,\u001b[49m\n\u001b[0;32m     31\u001b[0m \u001b[43m   \u001b[49m\n\u001b[0;32m     32\u001b[0m \u001b[43m)\u001b[49m\n\u001b[0;32m     33\u001b[0m \u001b[38;5;66;03m#adding the components to the energy system\u001b[39;00m\n\u001b[0;32m     34\u001b[0m ES\u001b[38;5;241m.\u001b[39madd(bus_heat,heatsource,sinkHeat,thermal_storage)\n",
      "File \u001b[1;32mc:\\Users\\tob71726\\AppData\\Local\\Programs\\Python\\Python312\\Lib\\site-packages\\oemof\\thermal\\facades.py:245\u001b[0m, in \u001b[0;36mStratifiedThermalStorage.__init__\u001b[1;34m(self, label, inputs, outputs, nominal_storage_capacity, initial_storage_level, investment, invest_relation_input_output, invest_relation_input_capacity, invest_relation_output_capacity, min_storage_level, max_storage_level, balanced, loss_rate, fixed_losses_relative, fixed_losses_absolute, inflow_conversion_factor, outflow_conversion_factor, custom_attributes, **kwargs)\u001b[0m\n\u001b[0;32m    221\u001b[0m \u001b[38;5;28;01mdef\u001b[39;00m \u001b[38;5;21m__init__\u001b[39m(\n\u001b[0;32m    222\u001b[0m         \u001b[38;5;28mself\u001b[39m,\n\u001b[0;32m    223\u001b[0m         \n\u001b[1;32m   (...)\u001b[0m\n\u001b[0;32m    242\u001b[0m         \u001b[38;5;241m*\u001b[39m\u001b[38;5;241m*\u001b[39mkwargs\n\u001b[0;32m    243\u001b[0m ):\n\u001b[1;32m--> 245\u001b[0m     \u001b[43mFacade\u001b[49m\u001b[38;5;241;43m.\u001b[39;49m\u001b[38;5;21;43m__init__\u001b[39;49m\u001b[43m(\u001b[49m\n\u001b[0;32m    246\u001b[0m \u001b[43m        \u001b[49m\u001b[38;5;28;43mself\u001b[39;49m\u001b[43m,\u001b[49m\n\u001b[0;32m    247\u001b[0m \u001b[43m        \u001b[49m\u001b[43m_facade_requires_\u001b[49m\u001b[38;5;241;43m=\u001b[39;49m\u001b[43m[\u001b[49m\n\u001b[0;32m    248\u001b[0m \u001b[43m            \u001b[49m\u001b[38;5;124;43m\"\u001b[39;49m\u001b[38;5;124;43mbus\u001b[39;49m\u001b[38;5;124;43m\"\u001b[39;49m\u001b[43m,\u001b[49m\u001b[43m \u001b[49m\u001b[38;5;124;43m\"\u001b[39;49m\u001b[38;5;124;43mdiameter\u001b[39;49m\u001b[38;5;124;43m\"\u001b[39;49m\u001b[43m,\u001b[49m\n\u001b[0;32m    249\u001b[0m \u001b[43m            \u001b[49m\u001b[38;5;124;43m\"\u001b[39;49m\u001b[38;5;124;43mtemp_h\u001b[39;49m\u001b[38;5;124;43m\"\u001b[39;49m\u001b[43m,\u001b[49m\u001b[43m \u001b[49m\u001b[38;5;124;43m\"\u001b[39;49m\u001b[38;5;124;43mtemp_c\u001b[39;49m\u001b[38;5;124;43m\"\u001b[39;49m\u001b[43m,\u001b[49m\u001b[43m \u001b[49m\u001b[38;5;124;43m\"\u001b[39;49m\u001b[38;5;124;43mtemp_env\u001b[39;49m\u001b[38;5;124;43m\"\u001b[39;49m\u001b[43m,\u001b[49m\n\u001b[0;32m    250\u001b[0m \u001b[43m            \u001b[49m\u001b[38;5;124;43m\"\u001b[39;49m\u001b[38;5;124;43mu_value\u001b[39;49m\u001b[38;5;124;43m\"\u001b[39;49m\u001b[43m]\u001b[49m\u001b[43m,\u001b[49m\n\u001b[0;32m    251\u001b[0m \u001b[43m        \u001b[49m\u001b[38;5;241;43m*\u001b[39;49m\u001b[38;5;241;43m*\u001b[39;49m\u001b[43mkwargs\u001b[49m\n\u001b[0;32m    252\u001b[0m \u001b[43m    \u001b[49m\u001b[43m)\u001b[49m\n\u001b[0;32m    253\u001b[0m     \u001b[38;5;28;01mwith\u001b[39;00m warnings\u001b[38;5;241m.\u001b[39mcatch_warnings():\n\u001b[0;32m    254\u001b[0m         warnings\u001b[38;5;241m.\u001b[39mfilterwarnings(\u001b[38;5;124m\"\u001b[39m\u001b[38;5;124mignore\u001b[39m\u001b[38;5;124m\"\u001b[39m, category\u001b[38;5;241m=\u001b[39mSuspiciousUsageWarning)\n",
      "File \u001b[1;32mc:\\Users\\tob71726\\AppData\\Local\\Programs\\Python\\Python312\\Lib\\site-packages\\oemof\\thermal\\facades.py:80\u001b[0m, in \u001b[0;36mFacade.__init__\u001b[1;34m(self, *args, **kwargs)\u001b[0m\n\u001b[0;32m     77\u001b[0m required \u001b[38;5;241m=\u001b[39m kwargs\u001b[38;5;241m.\u001b[39mpop(\u001b[38;5;124m\"\u001b[39m\u001b[38;5;124m_facade_requires_\u001b[39m\u001b[38;5;124m\"\u001b[39m, [])\n\u001b[0;32m     78\u001b[0m \u001b[38;5;66;03m# node_kwargs={'label':kwargs.get('label')}\u001b[39;00m\n\u001b[0;32m     79\u001b[0m \u001b[38;5;66;03m# super().__init__(**node_kwargs)\u001b[39;00m\n\u001b[1;32m---> 80\u001b[0m \u001b[38;5;28;43msuper\u001b[39;49m\u001b[43m(\u001b[49m\u001b[43m)\u001b[49m\u001b[38;5;241;43m.\u001b[39;49m\u001b[38;5;21;43m__init__\u001b[39;49m\u001b[43m(\u001b[49m\u001b[38;5;241;43m*\u001b[39;49m\u001b[43margs\u001b[49m\u001b[43m,\u001b[49m\u001b[43m \u001b[49m\u001b[38;5;241;43m*\u001b[39;49m\u001b[38;5;241;43m*\u001b[39;49m\u001b[43mkwargs\u001b[49m\u001b[43m)\u001b[49m           \u001b[38;5;66;03m#Diese Zeile führt zu Fehlern!!\u001b[39;00m\n\u001b[0;32m     81\u001b[0m \u001b[38;5;28mself\u001b[39m\u001b[38;5;241m.\u001b[39msubnodes \u001b[38;5;241m=\u001b[39m []\n\u001b[0;32m     82\u001b[0m EnergySystem\u001b[38;5;241m.\u001b[39msignals[EnergySystem\u001b[38;5;241m.\u001b[39madd]\u001b[38;5;241m.\u001b[39mconnect(\n\u001b[0;32m     83\u001b[0m     add_subnodes, sender\u001b[38;5;241m=\u001b[39m\u001b[38;5;28mself\u001b[39m\n\u001b[0;32m     84\u001b[0m )\n",
      "\u001b[1;31mTypeError\u001b[0m: Node.__init__() got an unexpected keyword argument 'bus'"
     ]
    }
   ],
   "source": [
    "\n",
    "import oemof.solph as solph\n",
    "from oemof.thermal.facades import StratifiedThermalStorage\n",
    "import pandas as pd\n",
    "\n",
    "\n",
    "ES = solph.EnergySystem(timeindex=pd.date_range('1/1/2024', periods=10, freq='h'),infer_last_interval=True)\n",
    "\n",
    "\n",
    "\n",
    "#bus,source,sink\n",
    "bus_heat = solph.buses.Bus(label='bus_heat')\n",
    "heatsource= solph.components.Source(label='heatsource', outputs={bus_heat: solph.flows.Flow()})\n",
    "sinkHeat= solph.components.Sink(label='sinkHeat', inputs={bus_heat: solph.flows.Flow()})\n",
    "\n",
    "#StratifiedThermalStorage\n",
    "thermal_storage = StratifiedThermalStorage(\n",
    "    label='thermal_storage',\n",
    "    bus=bus_heat,\n",
    "    diameter=3,\n",
    "    height=5,\n",
    "    temp_h=95,\n",
    "    temp_c=60,\n",
    "    temp_env=10,\n",
    "    u_value=3,\n",
    "    min_storage_level=0.05,\n",
    "    max_storage_level=0.95,\n",
    "    capacity=1,\n",
    "    efficiency=0.9,\n",
    "    marginal_cost=0.0001,\n",
    "    initial_storage_level=0.05,\n",
    "   \n",
    ")\n",
    "#adding the components to the energy system\n",
    "ES.add(bus_heat,heatsource,sinkHeat,thermal_storage)\n",
    "\n",
    "#creating the optimization model\n",
    "model = solph.Model(ES)\n",
    "output = model.solve(solver = 'cbc', solve_kwargs={'tee': False})\n",
    "results = solph.processing.results(model)\n",
    "\n",
    "\n",
    "\n"
   ]
  },
  {
   "cell_type": "markdown",
   "metadata": {},
   "source": [
    "# suggested Solution\n",
    "\n",
    "When altering the line 79 in the facade.py file (in the oemof.thermal package, that is responsible for the error) to only pass the 'label' argument to the __Node__ class, the code runs without errors.\n",
    "\n",
    "        #super().__init__(*args, **kwargs)\n",
    "        #now insert:\n",
    "        node_kwargs={'label':kwargs.get('label')}\n",
    "        super().__init__(**node_kwargs)\n",
    "\n",
    "I would be interested if you have different approaches on how to resolve this issue. Also, i assumed that only the label is a necessary kwarg (since input and ouput are later defined in the StratifiedThermalStorage class), but i wonder if there are cases where that is not sufficient. \n",
    "\n",
    "\n",
    "\n"
   ]
  }
 ],
 "metadata": {
  "kernelspec": {
   "display_name": "Python 3",
   "language": "python",
   "name": "python3"
  },
  "language_info": {
   "codemirror_mode": {
    "name": "ipython",
    "version": 3
   },
   "file_extension": ".py",
   "mimetype": "text/x-python",
   "name": "python",
   "nbconvert_exporter": "python",
   "pygments_lexer": "ipython3",
   "version": "3.12.4"
  }
 },
 "nbformat": 4,
 "nbformat_minor": 2
}
